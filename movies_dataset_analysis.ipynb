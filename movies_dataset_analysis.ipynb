{
 "cells": [
  {
   "cell_type": "markdown",
   "metadata": {},
   "source": [
    "# Project: Investigate a Dataset - Movies DataSet\n",
    "\n",
    "\n",
    "## Table of Contents\n",
    "<ul>\n",
    "<li><a href=\"#intro\">Introduction</a></li>\n",
    "<li><a href=\"#wrangling\">Data Wrangling</a></li>\n",
    "<li><a href=\"#questions1\">Exploratory Data Analysis, Questions and Answers</a></li>\n",
    "<li><a href=\"#conclusions\">Interesting correlation from my first 3 questions</a></li>    \n",
    "</ul>\n",
    "\n",
    "Link to DataSet is [here](https://d17h27t6h515a5.cloudfront.net/topher/2017/October/59dd1c4c_tmdb-movies/tmdb-movies.csv).\n"
   ]
  },
  {
   "cell_type": "markdown",
   "metadata": {},
   "source": [
    "<a id='intro'></a>\n",
    "## Introduction\n",
    "\n",
    "In this project we are going to investigate `The Movie Database (TMDb)`. \n",
    "This data set contains information about 10,000 movies collected from `The Movie Database (TMDb)`, including user ratings and revenue.\n",
    "- Certain columns, like `cast` and `genres`, contain multiple values separated by pipe (|) characters.\n",
    "- There are some odd characters in the `cast` column. Don’t worry about cleaning them. You can leave them as is.\n",
    "- The final two columns ending with `_adj` show the `budget` and `revenue` of the associated movie in terms of 2010 dollars, accounting for inflation over time.\n",
    "\n",
    "***What follows now***:\n",
    " <ul>\n",
    "    <li><a href=\"#firststeps\">We will beging with exploring the different columns in the dataset,</a></li>\n",
    "    <li><a href=\"#questions\">Then pose some questions that we want answers from the dataset,</a></li>\n",
    "    <li><a href=\"#wrangling\">Some data wrangling, as we would like to clean our data before we start answering our questions,</a></li>\n",
    "    <li><a href=\"#question1\">Research and answering the questions.</a></li>\n",
    "    <li><a href=\"#conclusions\">Correlation from answers to the questions.</a></li>\n",
    "</ul>, "
   ]
  },
  {
   "cell_type": "markdown",
   "metadata": {},
   "source": [
    "<a id='firststeps'></a>\n",
    "\n",
    "### First steps first: \n",
    "\n",
    "- ***import libraries required for this dataset***\n",
    "- ***Load DataSet  - `tmdb-movies.csv`***"
   ]
  },
  {
   "cell_type": "code",
   "execution_count": 1,
   "metadata": {
    "pycharm": {
     "name": "#%%\n"
    }
   },
   "outputs": [],
   "source": [
    "import numpy as np\n",
    "import pandas as pd\n",
    "import matplotlib.pyplot as plt\n",
    "%matplotlib inline\n",
    "\n",
    "df = pd.read_csv('./data/tmdb-movies.csv')"
   ]
  },
  {
   "cell_type": "markdown",
   "metadata": {},
   "source": [
    "- ***Once gathered data, its time to assess.***"
   ]
  },
  {
   "cell_type": "code",
   "execution_count": 2,
   "metadata": {
    "pycharm": {
     "name": "#%%\n"
    }
   },
   "outputs": [
    {
     "data": {
      "text/html": [
       "<div>\n",
       "<style scoped>\n",
       "    .dataframe tbody tr th:only-of-type {\n",
       "        vertical-align: middle;\n",
       "    }\n",
       "\n",
       "    .dataframe tbody tr th {\n",
       "        vertical-align: top;\n",
       "    }\n",
       "\n",
       "    .dataframe thead th {\n",
       "        text-align: right;\n",
       "    }\n",
       "</style>\n",
       "<table border=\"1\" class=\"dataframe\">\n",
       "  <thead>\n",
       "    <tr style=\"text-align: right;\">\n",
       "      <th></th>\n",
       "      <th>id</th>\n",
       "      <th>imdb_id</th>\n",
       "      <th>popularity</th>\n",
       "      <th>budget</th>\n",
       "      <th>revenue</th>\n",
       "      <th>original_title</th>\n",
       "      <th>cast</th>\n",
       "      <th>homepage</th>\n",
       "      <th>director</th>\n",
       "      <th>tagline</th>\n",
       "      <th>...</th>\n",
       "      <th>overview</th>\n",
       "      <th>runtime</th>\n",
       "      <th>genres</th>\n",
       "      <th>production_companies</th>\n",
       "      <th>release_date</th>\n",
       "      <th>vote_count</th>\n",
       "      <th>vote_average</th>\n",
       "      <th>release_year</th>\n",
       "      <th>budget_adj</th>\n",
       "      <th>revenue_adj</th>\n",
       "    </tr>\n",
       "  </thead>\n",
       "  <tbody>\n",
       "    <tr>\n",
       "      <th>0</th>\n",
       "      <td>135397</td>\n",
       "      <td>tt0369610</td>\n",
       "      <td>32.985763</td>\n",
       "      <td>150000000</td>\n",
       "      <td>1513528810</td>\n",
       "      <td>Jurassic World</td>\n",
       "      <td>Chris Pratt|Bryce Dallas Howard|Irrfan Khan|Vi...</td>\n",
       "      <td>http://www.jurassicworld.com/</td>\n",
       "      <td>Colin Trevorrow</td>\n",
       "      <td>The park is open.</td>\n",
       "      <td>...</td>\n",
       "      <td>Twenty-two years after the events of Jurassic ...</td>\n",
       "      <td>124</td>\n",
       "      <td>Action|Adventure|Science Fiction|Thriller</td>\n",
       "      <td>Universal Studios|Amblin Entertainment|Legenda...</td>\n",
       "      <td>06/09/2015</td>\n",
       "      <td>5562</td>\n",
       "      <td>6.5</td>\n",
       "      <td>2015</td>\n",
       "      <td>137999939.3</td>\n",
       "      <td>1.392446e+09</td>\n",
       "    </tr>\n",
       "    <tr>\n",
       "      <th>1</th>\n",
       "      <td>76341</td>\n",
       "      <td>tt1392190</td>\n",
       "      <td>28.419936</td>\n",
       "      <td>150000000</td>\n",
       "      <td>378436354</td>\n",
       "      <td>Mad Max: Fury Road</td>\n",
       "      <td>Tom Hardy|Charlize Theron|Hugh Keays-Byrne|Nic...</td>\n",
       "      <td>http://www.madmaxmovie.com/</td>\n",
       "      <td>George Miller</td>\n",
       "      <td>What a Lovely Day.</td>\n",
       "      <td>...</td>\n",
       "      <td>An apocalyptic story set in the furthest reach...</td>\n",
       "      <td>120</td>\n",
       "      <td>Action|Adventure|Science Fiction|Thriller</td>\n",
       "      <td>Village Roadshow Pictures|Kennedy Miller Produ...</td>\n",
       "      <td>5/13/15</td>\n",
       "      <td>6185</td>\n",
       "      <td>7.1</td>\n",
       "      <td>2015</td>\n",
       "      <td>137999939.3</td>\n",
       "      <td>3.481613e+08</td>\n",
       "    </tr>\n",
       "    <tr>\n",
       "      <th>2</th>\n",
       "      <td>262500</td>\n",
       "      <td>tt2908446</td>\n",
       "      <td>13.112507</td>\n",
       "      <td>110000000</td>\n",
       "      <td>295238201</td>\n",
       "      <td>Insurgent</td>\n",
       "      <td>Shailene Woodley|Theo James|Kate Winslet|Ansel...</td>\n",
       "      <td>http://www.thedivergentseries.movie/#insurgent</td>\n",
       "      <td>Robert Schwentke</td>\n",
       "      <td>One Choice Can Destroy You</td>\n",
       "      <td>...</td>\n",
       "      <td>Beatrice Prior must confront her inner demons ...</td>\n",
       "      <td>119</td>\n",
       "      <td>Adventure|Science Fiction|Thriller</td>\n",
       "      <td>Summit Entertainment|Mandeville Films|Red Wago...</td>\n",
       "      <td>3/18/15</td>\n",
       "      <td>2480</td>\n",
       "      <td>6.3</td>\n",
       "      <td>2015</td>\n",
       "      <td>101199955.5</td>\n",
       "      <td>2.716190e+08</td>\n",
       "    </tr>\n",
       "    <tr>\n",
       "      <th>3</th>\n",
       "      <td>140607</td>\n",
       "      <td>tt2488496</td>\n",
       "      <td>11.173104</td>\n",
       "      <td>200000000</td>\n",
       "      <td>2068178225</td>\n",
       "      <td>Star Wars: The Force Awakens</td>\n",
       "      <td>Harrison Ford|Mark Hamill|Carrie Fisher|Adam D...</td>\n",
       "      <td>http://www.starwars.com/films/star-wars-episod...</td>\n",
       "      <td>J.J. Abrams</td>\n",
       "      <td>Every generation has a story.</td>\n",
       "      <td>...</td>\n",
       "      <td>Thirty years after defeating the Galactic Empi...</td>\n",
       "      <td>136</td>\n",
       "      <td>Action|Adventure|Science Fiction|Fantasy</td>\n",
       "      <td>Lucasfilm|Truenorth Productions|Bad Robot</td>\n",
       "      <td>12/15/15</td>\n",
       "      <td>5292</td>\n",
       "      <td>7.5</td>\n",
       "      <td>2015</td>\n",
       "      <td>183999919.0</td>\n",
       "      <td>1.902723e+09</td>\n",
       "    </tr>\n",
       "    <tr>\n",
       "      <th>4</th>\n",
       "      <td>168259</td>\n",
       "      <td>tt2820852</td>\n",
       "      <td>9.335014</td>\n",
       "      <td>190000000</td>\n",
       "      <td>1506249360</td>\n",
       "      <td>Furious 7</td>\n",
       "      <td>Vin Diesel|Paul Walker|Jason Statham|Michelle ...</td>\n",
       "      <td>http://www.furious7.com/</td>\n",
       "      <td>James Wan</td>\n",
       "      <td>Vengeance Hits Home</td>\n",
       "      <td>...</td>\n",
       "      <td>Deckard Shaw seeks revenge against Dominic Tor...</td>\n",
       "      <td>137</td>\n",
       "      <td>Action|Crime|Thriller</td>\n",
       "      <td>Universal Pictures|Original Film|Media Rights ...</td>\n",
       "      <td>04/01/2015</td>\n",
       "      <td>2947</td>\n",
       "      <td>7.3</td>\n",
       "      <td>2015</td>\n",
       "      <td>174799923.1</td>\n",
       "      <td>1.385749e+09</td>\n",
       "    </tr>\n",
       "  </tbody>\n",
       "</table>\n",
       "<p>5 rows × 21 columns</p>\n",
       "</div>"
      ],
      "text/plain": [
       "       id    imdb_id  popularity     budget     revenue  \\\n",
       "0  135397  tt0369610   32.985763  150000000  1513528810   \n",
       "1   76341  tt1392190   28.419936  150000000   378436354   \n",
       "2  262500  tt2908446   13.112507  110000000   295238201   \n",
       "3  140607  tt2488496   11.173104  200000000  2068178225   \n",
       "4  168259  tt2820852    9.335014  190000000  1506249360   \n",
       "\n",
       "                 original_title  \\\n",
       "0                Jurassic World   \n",
       "1            Mad Max: Fury Road   \n",
       "2                     Insurgent   \n",
       "3  Star Wars: The Force Awakens   \n",
       "4                     Furious 7   \n",
       "\n",
       "                                                cast  \\\n",
       "0  Chris Pratt|Bryce Dallas Howard|Irrfan Khan|Vi...   \n",
       "1  Tom Hardy|Charlize Theron|Hugh Keays-Byrne|Nic...   \n",
       "2  Shailene Woodley|Theo James|Kate Winslet|Ansel...   \n",
       "3  Harrison Ford|Mark Hamill|Carrie Fisher|Adam D...   \n",
       "4  Vin Diesel|Paul Walker|Jason Statham|Michelle ...   \n",
       "\n",
       "                                            homepage          director  \\\n",
       "0                      http://www.jurassicworld.com/   Colin Trevorrow   \n",
       "1                        http://www.madmaxmovie.com/     George Miller   \n",
       "2     http://www.thedivergentseries.movie/#insurgent  Robert Schwentke   \n",
       "3  http://www.starwars.com/films/star-wars-episod...       J.J. Abrams   \n",
       "4                           http://www.furious7.com/         James Wan   \n",
       "\n",
       "                         tagline  ...  \\\n",
       "0              The park is open.  ...   \n",
       "1             What a Lovely Day.  ...   \n",
       "2     One Choice Can Destroy You  ...   \n",
       "3  Every generation has a story.  ...   \n",
       "4            Vengeance Hits Home  ...   \n",
       "\n",
       "                                            overview runtime  \\\n",
       "0  Twenty-two years after the events of Jurassic ...     124   \n",
       "1  An apocalyptic story set in the furthest reach...     120   \n",
       "2  Beatrice Prior must confront her inner demons ...     119   \n",
       "3  Thirty years after defeating the Galactic Empi...     136   \n",
       "4  Deckard Shaw seeks revenge against Dominic Tor...     137   \n",
       "\n",
       "                                      genres  \\\n",
       "0  Action|Adventure|Science Fiction|Thriller   \n",
       "1  Action|Adventure|Science Fiction|Thriller   \n",
       "2         Adventure|Science Fiction|Thriller   \n",
       "3   Action|Adventure|Science Fiction|Fantasy   \n",
       "4                      Action|Crime|Thriller   \n",
       "\n",
       "                                production_companies release_date vote_count  \\\n",
       "0  Universal Studios|Amblin Entertainment|Legenda...   06/09/2015       5562   \n",
       "1  Village Roadshow Pictures|Kennedy Miller Produ...      5/13/15       6185   \n",
       "2  Summit Entertainment|Mandeville Films|Red Wago...      3/18/15       2480   \n",
       "3          Lucasfilm|Truenorth Productions|Bad Robot     12/15/15       5292   \n",
       "4  Universal Pictures|Original Film|Media Rights ...   04/01/2015       2947   \n",
       "\n",
       "   vote_average  release_year   budget_adj   revenue_adj  \n",
       "0           6.5          2015  137999939.3  1.392446e+09  \n",
       "1           7.1          2015  137999939.3  3.481613e+08  \n",
       "2           6.3          2015  101199955.5  2.716190e+08  \n",
       "3           7.5          2015  183999919.0  1.902723e+09  \n",
       "4           7.3          2015  174799923.1  1.385749e+09  \n",
       "\n",
       "[5 rows x 21 columns]"
      ]
     },
     "execution_count": 2,
     "metadata": {},
     "output_type": "execute_result"
    }
   ],
   "source": [
    "df.head(5)\n",
    "# Now as I read the values from df, I see the columns that probably are not going to of\n",
    "# much use for example first two columns like id and imdb_id"
   ]
  },
  {
   "cell_type": "code",
   "execution_count": 3,
   "metadata": {
    "pycharm": {
     "name": "#%%\n"
    }
   },
   "outputs": [
    {
     "name": "stdout",
     "output_type": "stream",
     "text": [
      "data values collected from year: 1960\n",
      "data values collected till year: 2015\n",
      "Number of years of values in dataset: 56\n"
     ]
    }
   ],
   "source": [
    "# I would like to see what all years of data we have in dataframe\n",
    "years = sorted(df.release_year.unique())\n",
    "\n",
    "start_year = years[0]\n",
    "end_year = years[-1]\n",
    "total_years = df.release_year.nunique()\n",
    "\n",
    "print(f'data values collected from year: {start_year}')\n",
    "print(f'data values collected till year: {end_year}')\n",
    "print(f'Number of years of values in dataset: {total_years}')\n"
   ]
  },
  {
   "cell_type": "markdown",
   "metadata": {},
   "source": [
    "<a id='questions'></a>\n",
    "\n",
    "## Questions?\n",
    "\n",
    "<ul>\n",
    "    <li><a href=\"#question1\">What is the trend of the mean profit made from the all the movies for each year, taking into account the movies that made some profit?</a></li>\n",
    "    <li><a href=\"#question2\">Has the mean revenue increased over the years for all movies?</a></li>\n",
    "    <li><a href=\"#question3\">Has the mean budget increased over the years for all movies?</a></li>\n",
    "    <li><a href=\"#question4\">Has the runtime of the movies increased over the years?</a></li>\n",
    "    <li><a href=\"#question5\">Most Successful directors based on mean profit from all the movies they made?</a></li>\n",
    "</ul>\n",
    "\n",
    "\n",
    "Before we begin to answer above we will see what are the columns required for above questions. <br>\n",
    "We can safely proceed to the wrangling sections now.\n"
   ]
  },
  {
   "cell_type": "markdown",
   "metadata": {},
   "source": [
    "<a id='wrangling'></a>\n",
    "\n",
    "## Wrangling\n",
    "\n",
    "<ul>\n",
    "    <li><a href=\"#wrangling1\">need to clear out some columns that are not going to required for our research,</a></li>\n",
    "    <li><a href=\"#wrangling2\">need to remove the missing values by removing the row of values,</a></li>\n",
    "    <li><a href=\"#wrangling4\">need to clean dataframe of any duplicated values.</a></li>\n",
    "    <li><a href=\"#wrangling3\">need to create a new column named `proft` by calculating the adjusted to inflation `budget` and `revenue`,</a></li>\n",
    "</ul>\n",
    "\n"
   ]
  },
  {
   "cell_type": "markdown",
   "metadata": {},
   "source": [
    "<a id='wrangling1'></a>\n",
    "\n",
    "## Lets begin:"
   ]
  },
  {
   "cell_type": "code",
   "execution_count": 4,
   "metadata": {
    "pycharm": {
     "name": "#%%\n"
    }
   },
   "outputs": [
    {
     "name": "stdout",
     "output_type": "stream",
     "text": [
      "<class 'pandas.core.frame.DataFrame'>\n",
      "RangeIndex: 10866 entries, 0 to 10865\n",
      "Data columns (total 21 columns):\n",
      " #   Column                Non-Null Count  Dtype  \n",
      "---  ------                --------------  -----  \n",
      " 0   id                    10866 non-null  int64  \n",
      " 1   imdb_id               10856 non-null  object \n",
      " 2   popularity            10866 non-null  float64\n",
      " 3   budget                10866 non-null  int64  \n",
      " 4   revenue               10866 non-null  int64  \n",
      " 5   original_title        10866 non-null  object \n",
      " 6   cast                  10790 non-null  object \n",
      " 7   homepage              2936 non-null   object \n",
      " 8   director              10822 non-null  object \n",
      " 9   tagline               8042 non-null   object \n",
      " 10  keywords              9373 non-null   object \n",
      " 11  overview              10862 non-null  object \n",
      " 12  runtime               10866 non-null  int64  \n",
      " 13  genres                10843 non-null  object \n",
      " 14  production_companies  9836 non-null   object \n",
      " 15  release_date          10866 non-null  object \n",
      " 16  vote_count            10866 non-null  int64  \n",
      " 17  vote_average          10866 non-null  float64\n",
      " 18  release_year          10866 non-null  int64  \n",
      " 19  budget_adj            10866 non-null  float64\n",
      " 20  revenue_adj           10866 non-null  float64\n",
      "dtypes: float64(4), int64(6), object(11)\n",
      "memory usage: 1.7+ MB\n"
     ]
    }
   ],
   "source": [
    "df.info()"
   ]
  },
  {
   "cell_type": "markdown",
   "metadata": {},
   "source": [
    "\n",
    "#### There is `10,866 rows` and `21 columns` worth of data in the dataset.\n",
    "#### It can be seen from `info()` output some of the columns are missing values.\n",
    "\n",
    "**for example**:\n",
    "\n",
    "```\n",
    " 6   cast                  10790 non-null  object \n",
    " 7   homepage              2936 non-null   object \n",
    " 8   director              10822 non-null  object \n",
    " 9   tagline               8042 non-null   object \n",
    " 10  keywords              9373 non-null   object \n",
    " 11  overview              10862 non-null  object \n",
    "```\n",
    "\n",
    "**we can use `isnull().sum()` on above dataframe to count the number of values missing\n",
    "values for each column**"
   ]
  },
  {
   "cell_type": "code",
   "execution_count": 5,
   "metadata": {
    "pycharm": {
     "name": "#%%\n"
    }
   },
   "outputs": [
    {
     "data": {
      "text/plain": [
       "id                         0\n",
       "imdb_id                   10\n",
       "popularity                 0\n",
       "budget                     0\n",
       "revenue                    0\n",
       "original_title             0\n",
       "cast                      76\n",
       "homepage                7930\n",
       "director                  44\n",
       "tagline                 2824\n",
       "keywords                1493\n",
       "overview                   4\n",
       "runtime                    0\n",
       "genres                    23\n",
       "production_companies    1030\n",
       "release_date               0\n",
       "vote_count                 0\n",
       "vote_average               0\n",
       "release_year               0\n",
       "budget_adj                 0\n",
       "revenue_adj                0\n",
       "dtype: int64"
      ]
     },
     "execution_count": 5,
     "metadata": {},
     "output_type": "execute_result"
    }
   ],
   "source": [
    "df.isnull().sum()"
   ]
  },
  {
   "cell_type": "markdown",
   "metadata": {},
   "source": [
    "<a id='wrangling2'></a>\n",
    "- ***Before we drop the missing values, lets get rid of the unwanted columns.***  <br>\n",
    "**columns**: \n",
    "    ```\n",
    "    id:           ID, I dont need this to answer any of my questions,\n",
    "    overview:     Movie description, not useful for my questions,\n",
    "    tagline:      Movie tagline, I dont need this to answer any of my questions,\n",
    "    homepage:     Movie homepage, I dont need this to answer any of my questions,\n",
    "    imdb_id:      IMDB ID for movie, I dont need this to answer any of my questions,\n",
    "    vote_count:   Number of votes on the IMDB for this movie, not useful for my questions,\n",
    "    vote_average: Vote average similarly not useful for my set of questions,\n",
    "    release_date: Most of my questions deals with year, hence release_date is not useful.\n",
    "```"
   ]
  },
  {
   "cell_type": "markdown",
   "metadata": {},
   "source": [
    "\n",
    "- ***Remove the columns from dataframe using `drop`***"
   ]
  },
  {
   "cell_type": "code",
   "execution_count": 6,
   "metadata": {
    "pycharm": {
     "name": "#%%\n"
    }
   },
   "outputs": [],
   "source": [
    "# columns to be dropped from the dataframe\n",
    "cols_rid = ['homepage', 'tagline', 'release_date', 'imdb_id', \n",
    "            'id', 'overview', 'vote_count', 'vote_average']\n",
    "\n",
    "# drop the columns and save the dataframe \n",
    "df.drop(columns=cols_rid, inplace=True)\n",
    "\n",
    "# confirm the shape of the dataframe expected \n",
    "# number of columns in dataframe should be 15 \n",
    "# after removing 7 columns.\n",
    "assert df.shape[1] == 13  # should be True"
   ]
  },
  {
   "cell_type": "markdown",
   "metadata": {},
   "source": [
    "- ***Drop the rows with missing values using `dropna` method***"
   ]
  },
  {
   "cell_type": "code",
   "execution_count": 7,
   "metadata": {
    "pycharm": {
     "name": "#%%\n"
    }
   },
   "outputs": [],
   "source": [
    "# drop the rows with missing values in the dataframe and save the new state\n",
    "df.dropna(inplace=True)\n",
    "\n",
    "# validate that there are no missing values \n",
    "assert df.isnull().any().any() == False  "
   ]
  },
  {
   "cell_type": "markdown",
   "metadata": {},
   "source": [
    "<a id='wrangling4'></a>\n",
    "\n",
    "- **Lets see if there are any duplicate values in the data**"
   ]
  },
  {
   "cell_type": "code",
   "execution_count": 8,
   "metadata": {
    "pycharm": {
     "name": "#%%\n"
    }
   },
   "outputs": [
    {
     "data": {
      "text/plain": [
       "1"
      ]
     },
     "execution_count": 8,
     "metadata": {},
     "output_type": "execute_result"
    }
   ],
   "source": [
    "sum(df.duplicated())"
   ]
  },
  {
   "cell_type": "markdown",
   "metadata": {},
   "source": [
    "- **Lets drop the duplicated values, using `inplace` we preserve the state of the Dataframe.**"
   ]
  },
  {
   "cell_type": "code",
   "execution_count": 9,
   "metadata": {
    "pycharm": {
     "name": "#%%\n"
    }
   },
   "outputs": [],
   "source": [
    "df.drop_duplicates(inplace=True)\n",
    "\n",
    "# confirm there are no duplicate values now.\n",
    "assert df.duplicated().any() == False  "
   ]
  },
  {
   "cell_type": "markdown",
   "metadata": {},
   "source": [
    "- ***Create a copy of the DF since its has been cleaned for research purpose, we can use the origional `df` later on (if required) for different questions***."
   ]
  },
  {
   "cell_type": "code",
   "execution_count": 10,
   "metadata": {
    "pycharm": {
     "name": "#%%\n"
    }
   },
   "outputs": [],
   "source": [
    "dfrev = df.copy()"
   ]
  },
  {
   "cell_type": "markdown",
   "metadata": {},
   "source": [
    "<a id='wrangling3'></a>\n",
    "\n",
    "**In order to do research around `revenue` based on `titles`, `directors`, `years` we need columns `budget_adj` and `revenue_adj` whose values are adjusted with inflation for each row. <br>\n",
    "In dataset we dont see a column for `profit`, so we create one using the `budget_adj` and `revenue_adj`:** <br>\n",
    "\n",
    "```\n",
    "profit = revenue_adj - budget_adj\n",
    "```\n",
    "\n",
    "**the values I get above get number, hence I take proportion as the profit**:\n",
    "\n",
    "```\n",
    "profit = revenue_adj / budget_adj\n",
    "\n",
    "if profit > 1:\n",
    "    then movie was successful and made profit\n",
    "else:\n",
    "    then movie could not recover the budget\n",
    "```"
   ]
  },
  {
   "cell_type": "code",
   "execution_count": 11,
   "metadata": {
    "pycharm": {
     "name": "#%%\n"
    }
   },
   "outputs": [
    {
     "data": {
      "text/plain": [
       "count    5585.000000\n",
       "mean             inf\n",
       "std              NaN\n",
       "min         0.000000\n",
       "25%         0.305536\n",
       "50%         2.041864\n",
       "75%         6.785319\n",
       "max              inf\n",
       "Name: profit, dtype: float64"
      ]
     },
     "execution_count": 11,
     "metadata": {},
     "output_type": "execute_result"
    }
   ],
   "source": [
    "dfrev['profit'] = dfrev['revenue_adj'] / dfrev['budget_adj']\n",
    "dfrev['profit'].describe()"
   ]
  },
  {
   "cell_type": "markdown",
   "metadata": {},
   "source": [
    "So in above cell, there is a problem some of the values are `infinite` <br>\n",
    "we can convert `inf` to `nan` using `replace` method as done [here on stackoverflow.](https://stackoverflow.com/questions/17477979/dropping-infinite-values-from-dataframes-in-pandas)"
   ]
  },
  {
   "cell_type": "code",
   "execution_count": 12,
   "metadata": {
    "pycharm": {
     "name": "#%%\n"
    }
   },
   "outputs": [
    {
     "name": "stdout",
     "output_type": "stream",
     "text": [
      "\n",
      "Before replacing the \"inf\" with \"nan\" values,\n",
      "Number of missing values in profit column: 3081\n",
      "\n",
      "After replacing the \"inf\" with \"nan\" values,\n",
      "Number of missing values in profit column: 3940\n",
      "\n",
      "After dropping the \"inf\" with \"nan\" values,\n",
      "Number of missing values in profit column: 0\n"
     ]
    }
   ],
   "source": [
    "def get_missing_values(dfx):\n",
    "    \"\"\"This method returns the \"\"\"\n",
    "    res = f'Number of missing values in profit column: {dfx[\"profit\"].isnull().sum()}'\n",
    "    return res\n",
    "\n",
    "print('\\nBefore replacing the \"inf\" with \"nan\" values,')\n",
    "print(get_missing_values(dfrev))\n",
    "\n",
    "# replace the inf's with NaN\n",
    "dfrev['profit'].replace([np.inf, -np.inf], np.nan, inplace=True)\n",
    "\n",
    "# now count he number of Nan Values in the profit column\n",
    "print('\\nAfter replacing the \"inf\" with \"nan\" values,')\n",
    "print(get_missing_values(dfrev))\n",
    "\n",
    "dfrev.dropna(inplace=True)  # lets drop the missing values\n",
    "print('\\nAfter dropping the \"inf\" with \"nan\" values,')\n",
    "print(get_missing_values(dfrev))"
   ]
  },
  {
   "cell_type": "code",
   "execution_count": 13,
   "metadata": {
    "pycharm": {
     "name": "#%%\n"
    }
   },
   "outputs": [],
   "source": [
    "# profit columns has values upto 6 decimal values we dont need that precise values.\n",
    "dfrev['profit'] = dfrev['profit'].round(2)"
   ]
  },
  {
   "cell_type": "code",
   "execution_count": 14,
   "metadata": {
    "pycharm": {
     "name": "#%%\n"
    }
   },
   "outputs": [],
   "source": [
    "dfq1 = dfrev.copy() # clean dataframe for research on question 1\n",
    "dfq2 = dfrev.copy() # clean dataframe for research on question 2\n",
    "dfq3 = dfrev.copy() # clean dataframe for research on question 3\n",
    "dfq4 = dfrev.copy() # clean dataframe for research on question 4\n",
    "dfq5 = dfrev.copy() # clean dataframe for research on question 4"
   ]
  },
  {
   "cell_type": "markdown",
   "metadata": {},
   "source": [
    "<a id='question1'></a>\n",
    "## Q1. What is the trend of the profit made from the movie that made some profit?\n",
    "\n",
    "  - I am interested at looking at the trend of mean profit made by all the successful movies in all the years. \n",
    "  - By Successful, I mean taking into the account the movies who have made atleast a dollar in profit.\n",
    "\n",
    "    **logic for profit and considering a movie a success**:\n",
    "\n",
    "    ```\n",
    "      profit = revenue_adj / budget_adj\n",
    "\n",
    "      if profit > 1:\n",
    "          then movie was successful and made profit\n",
    "      else 0 > profit < 1:\n",
    "          then movie could not recover the budget\n",
    "    ```"
   ]
  },
  {
   "cell_type": "code",
   "execution_count": 15,
   "metadata": {
    "pycharm": {
     "name": "#%%\n"
    }
   },
   "outputs": [
    {
     "name": "stdout",
     "output_type": "stream",
     "text": [
      "Shape of dfq1: (4726, 14)\n",
      "Number of movies did not make profit: 2041\n",
      "Number of movies did not make profit: 2685\n"
     ]
    }
   ],
   "source": [
    "print(f'Shape of dfq1: {dfq1.shape}')\n",
    "\n",
    "number_of_movies_made_no_money = dfq1.query('profit <= 1')['profit'].shape[0]\n",
    "print(f'Number of movies did not make profit: {number_of_movies_made_no_money}')\n",
    "\n",
    "# create a DF with all the rows whose profit proportion is more than 0.\n",
    "data = dfq1.query('profit > 1')[['release_year', 'profit']]\n",
    "\n",
    "print(f'Number of movies did not make profit: {data.shape[0]}')"
   ]
  },
  {
   "cell_type": "markdown",
   "metadata": {},
   "source": [
    "- ***Now that we have dataframe `data` lets plot a scatter graph to see the relation between the `release year` and `profit proportion`.***"
   ]
  },
  {
   "cell_type": "code",
   "execution_count": 16,
   "metadata": {
    "pycharm": {
     "name": "#%%\n"
    }
   },
   "outputs": [
    {
     "data": {
      "image/png": "[encoded data removed]",
      "text/plain": [
       "<Figure size 432x288 with 1 Axes>"
      ]
     },
     "metadata": {
      "needs_background": "light"
     },
     "output_type": "display_data"
    }
   ],
   "source": [
    "plt.scatter(x=data['profit'], y=data['release_year'])\n",
    "plt.title(\"     Profit for each year for all movies\")\n",
    "plt.xlabel(\"Profit Proportion\")\n",
    "plt.ylabel(\"Year\")\n",
    "plt.show()"
   ]
  },
  {
   "cell_type": "markdown",
   "metadata": {},
   "source": [
    "- **We did not get a clean scatter plot because of the Outliers**.\n",
    "- **Lets clean up the profit proportion column to remove the outliers**\n",
    "- **Simple way is remove the top 5 largest values in profit columns can be seen from above scatter plot (5 dots)**"
   ]
  },
  {
   "cell_type": "code",
   "execution_count": 17,
   "metadata": {
    "pycharm": {
     "name": "#%%\n"
    }
   },
   "outputs": [
    {
     "data": {
      "text/html": [
       "<div>\n",
       "<style scoped>\n",
       "    .dataframe tbody tr th:only-of-type {\n",
       "        vertical-align: middle;\n",
       "    }\n",
       "\n",
       "    .dataframe tbody tr th {\n",
       "        vertical-align: top;\n",
       "    }\n",
       "\n",
       "    .dataframe thead th {\n",
       "        text-align: right;\n",
       "    }\n",
       "</style>\n",
       "<table border=\"1\" class=\"dataframe\">\n",
       "  <thead>\n",
       "    <tr style=\"text-align: right;\">\n",
       "      <th></th>\n",
       "      <th>release_year</th>\n",
       "      <th>profit</th>\n",
       "    </tr>\n",
       "  </thead>\n",
       "  <tbody>\n",
       "    <tr>\n",
       "      <th>10495</th>\n",
       "      <td>1986</td>\n",
       "      <td>1018619.28</td>\n",
       "    </tr>\n",
       "    <tr>\n",
       "      <th>6179</th>\n",
       "      <td>1985</td>\n",
       "      <td>58771.93</td>\n",
       "    </tr>\n",
       "    <tr>\n",
       "      <th>3608</th>\n",
       "      <td>2011</td>\n",
       "      <td>26881.72</td>\n",
       "    </tr>\n",
       "    <tr>\n",
       "      <th>7447</th>\n",
       "      <td>2007</td>\n",
       "      <td>12890.39</td>\n",
       "    </tr>\n",
       "    <tr>\n",
       "      <th>2449</th>\n",
       "      <td>1999</td>\n",
       "      <td>9920.00</td>\n",
       "    </tr>\n",
       "    <tr>\n",
       "      <th>3581</th>\n",
       "      <td>2011</td>\n",
       "      <td>1378.00</td>\n",
       "    </tr>\n",
       "    <tr>\n",
       "      <th>1354</th>\n",
       "      <td>1977</td>\n",
       "      <td>700.00</td>\n",
       "    </tr>\n",
       "    <tr>\n",
       "      <th>7277</th>\n",
       "      <td>1972</td>\n",
       "      <td>500.00</td>\n",
       "    </tr>\n",
       "    <tr>\n",
       "      <th>7178</th>\n",
       "      <td>2004</td>\n",
       "      <td>439.62</td>\n",
       "    </tr>\n",
       "    <tr>\n",
       "      <th>242</th>\n",
       "      <td>2015</td>\n",
       "      <td>426.64</td>\n",
       "    </tr>\n",
       "  </tbody>\n",
       "</table>\n",
       "</div>"
      ],
      "text/plain": [
       "       release_year      profit\n",
       "10495          1986  1018619.28\n",
       "6179           1985    58771.93\n",
       "3608           2011    26881.72\n",
       "7447           2007    12890.39\n",
       "2449           1999     9920.00\n",
       "3581           2011     1378.00\n",
       "1354           1977      700.00\n",
       "7277           1972      500.00\n",
       "7178           2004      439.62\n",
       "242            2015      426.64"
      ]
     },
     "execution_count": 17,
     "metadata": {},
     "output_type": "execute_result"
    }
   ],
   "source": [
    "# find top five values of the profit column.\n",
    "data.nlargest(10,['profit'])"
   ]
  },
  {
   "cell_type": "code",
   "execution_count": 18,
   "metadata": {
    "pycharm": {
     "name": "#%%\n"
    }
   },
   "outputs": [],
   "source": [
    "# I have created a method to remove the outliers in the profit column\n",
    "# as I think this method could be useful while finding answer to my\n",
    "# other 3 questions.\n",
    "\n",
    "def remove_profit_outliers(df_rpo, number_of_rows: int = 5):\n",
    "    \"\"\"\n",
    "    Method to remove the outliers in the profit column in the DF\n",
    "    \n",
    "    param df_rpo: dataframe whose profit outliers to be taken out.\n",
    "    :type df_rpo: dataframe\n",
    "    :param number_of_rows: number of outliers to be taken out, by default takes out 5.\n",
    "    :type number_of_rows: integer\n",
    "    :return: cleaned dataframe\n",
    "    \"\"\"\n",
    "\n",
    "    # find the index's of the above top 5 largest profit values.\n",
    "    indexs = df_rpo.nlargest(number_of_rows, ['profit']).index\n",
    "\n",
    "    # drop these rows of data \n",
    "    df_rpo.drop(indexs, axis=0, inplace=True)\n",
    "\n",
    "    return df_rpo\n",
    "\n",
    "\n",
    "data = remove_profit_outliers(data)"
   ]
  },
  {
   "cell_type": "markdown",
   "metadata": {},
   "source": [
    "- **Now we plot again on scatter graph**"
   ]
  },
  {
   "cell_type": "code",
   "execution_count": 19,
   "metadata": {
    "pycharm": {
     "name": "#%%\n"
    }
   },
   "outputs": [
    {
     "data": {
      "image/png": "[encoded data removed]",
      "text/plain": [
       "<Figure size 432x288 with 1 Axes>"
      ]
     },
     "metadata": {
      "needs_background": "light"
     },
     "output_type": "display_data"
    }
   ],
   "source": [
    "plt.scatter(y=data['profit'], x=data['release_year'], alpha=0.4)\n",
    "plt.title(\"     Profit for each year for all movies\")\n",
    "plt.xlabel(\"Year\")\n",
    "plt.ylabel(\"Profit Proportion\")\n",
    "plt.show()"
   ]
  },
  {
   "cell_type": "markdown",
   "metadata": {},
   "source": [
    "- **Good there is some progress, but still not close to what I need answer to the question would be.** \n",
    "- **In above graph we are looking at the scatter points, thousands of them that is because we are plotting all the movies profit proportions.**\n",
    "- **what I need is the mean profit proportion trend for the years, which means we need to find the mean of profit column.**"
   ]
  },
  {
   "cell_type": "code",
   "execution_count": 20,
   "metadata": {
    "pycharm": {
     "name": "#%%\n"
    }
   },
   "outputs": [],
   "source": [
    "data = data.groupby('release_year')[['profit', 'release_year']].mean()"
   ]
  },
  {
   "cell_type": "markdown",
   "metadata": {},
   "source": [
    "- **lets see what our data dataframe looks like**."
   ]
  },
  {
   "cell_type": "code",
   "execution_count": 21,
   "metadata": {
    "pycharm": {
     "name": "#%%\n"
    }
   },
   "outputs": [
    {
     "data": {
      "text/html": [
       "<div>\n",
       "<style scoped>\n",
       "    .dataframe tbody tr th:only-of-type {\n",
       "        vertical-align: middle;\n",
       "    }\n",
       "\n",
       "    .dataframe tbody tr th {\n",
       "        vertical-align: top;\n",
       "    }\n",
       "\n",
       "    .dataframe thead th {\n",
       "        text-align: right;\n",
       "    }\n",
       "</style>\n",
       "<table border=\"1\" class=\"dataframe\">\n",
       "  <thead>\n",
       "    <tr style=\"text-align: right;\">\n",
       "      <th></th>\n",
       "      <th>profit</th>\n",
       "      <th>release_year</th>\n",
       "    </tr>\n",
       "    <tr>\n",
       "      <th>release_year</th>\n",
       "      <th></th>\n",
       "      <th></th>\n",
       "    </tr>\n",
       "  </thead>\n",
       "  <tbody>\n",
       "    <tr>\n",
       "      <th>1960</th>\n",
       "      <td>13.9</td>\n",
       "      <td>1960</td>\n",
       "    </tr>\n",
       "    <tr>\n",
       "      <th>1961</th>\n",
       "      <td>9.9</td>\n",
       "      <td>1961</td>\n",
       "    </tr>\n",
       "    <tr>\n",
       "      <th>1962</th>\n",
       "      <td>11.1</td>\n",
       "      <td>1962</td>\n",
       "    </tr>\n",
       "    <tr>\n",
       "      <th>1963</th>\n",
       "      <td>8.5</td>\n",
       "      <td>1963</td>\n",
       "    </tr>\n",
       "    <tr>\n",
       "      <th>1964</th>\n",
       "      <td>10.2</td>\n",
       "      <td>1964</td>\n",
       "    </tr>\n",
       "  </tbody>\n",
       "</table>\n",
       "</div>"
      ],
      "text/plain": [
       "              profit  release_year\n",
       "release_year                      \n",
       "1960            13.9          1960\n",
       "1961             9.9          1961\n",
       "1962            11.1          1962\n",
       "1963             8.5          1963\n",
       "1964            10.2          1964"
      ]
     },
     "execution_count": 21,
     "metadata": {},
     "output_type": "execute_result"
    }
   ],
   "source": [
    "# lets round the profit column and tidy it up\n",
    "data['profit'] = data['profit'].round(1)\n",
    "data.head(5)"
   ]
  },
  {
   "cell_type": "code",
   "execution_count": 22,
   "metadata": {
    "pycharm": {
     "name": "#%%\n"
    }
   },
   "outputs": [
    {
     "data": {
      "text/plain": [
       "count    56.000000\n",
       "mean     12.150000\n",
       "std      13.773717\n",
       "min       2.800000\n",
       "25%       4.950000\n",
       "50%       7.000000\n",
       "75%      13.100000\n",
       "max      77.000000\n",
       "Name: profit, dtype: float64"
      ]
     },
     "execution_count": 22,
     "metadata": {},
     "output_type": "execute_result"
    }
   ],
   "source": [
    "data.profit.describe()"
   ]
  },
  {
   "cell_type": "markdown",
   "metadata": {},
   "source": [
    "- **Lets plot the scatter graph again.**"
   ]
  },
  {
   "cell_type": "code",
   "execution_count": 23,
   "metadata": {
    "pycharm": {
     "name": "#%%\n"
    }
   },
   "outputs": [
    {
     "data": {
      "image/png": "[encoded data removed]",
      "text/plain": [
       "<Figure size 432x288 with 1 Axes>"
      ]
     },
     "metadata": {
      "needs_background": "light"
     },
     "output_type": "display_data"
    }
   ],
   "source": [
    "plt.scatter(y=data['profit'], x=data['release_year'], alpha=0.8)\n",
    "plt.title(\"      Adjusted Mean Profit for each year for all profitable movies\")\n",
    "plt.xlabel(\"Year\")\n",
    "plt.ylabel(\"Adjusted Mean Profit\")\n",
    "plt.show()"
   ]
  },
  {
   "cell_type": "markdown",
   "metadata": {},
   "source": [
    "- It is quite evident from above scatter plot since mid of 1980's the mean profit of all successful films who made atleast a dollar of profit is less than the mean of all years of mean profit. Lets see the stats via code."
   ]
  },
  {
   "cell_type": "code",
   "execution_count": 24,
   "metadata": {
    "pycharm": {
     "name": "#%%\n"
    }
   },
   "outputs": [
    {
     "name": "stdout",
     "output_type": "stream",
     "text": [
      "mean of all profit proportions for all the years: 12.150000000000002\n"
     ]
    },
    {
     "data": {
      "text/plain": [
       "release_year\n",
       "1961    1961\n",
       "1962    1962\n",
       "1963    1963\n",
       "1964    1964\n",
       "1965    1965\n",
       "1966    1966\n",
       "1968    1968\n",
       "1981    1981\n",
       "1982    1982\n",
       "1983    1983\n",
       "1984    1984\n",
       "1985    1985\n",
       "1986    1986\n",
       "1987    1987\n",
       "1988    1988\n",
       "1989    1989\n",
       "1990    1990\n",
       "1991    1991\n",
       "1992    1992\n",
       "1993    1993\n",
       "1994    1994\n",
       "1995    1995\n",
       "1996    1996\n",
       "1997    1997\n",
       "1998    1998\n",
       "1999    1999\n",
       "2000    2000\n",
       "2001    2001\n",
       "2002    2002\n",
       "2003    2003\n",
       "2005    2005\n",
       "2006    2006\n",
       "2007    2007\n",
       "2008    2008\n",
       "2009    2009\n",
       "2010    2010\n",
       "2012    2012\n",
       "2013    2013\n",
       "2014    2014\n",
       "2015    2015\n",
       "Name: release_year, dtype: int64"
      ]
     },
     "execution_count": 24,
     "metadata": {},
     "output_type": "execute_result"
    }
   ],
   "source": [
    "\n",
    "mean_of_all_profits_for_all_years = data.profit.mean()\n",
    "mean_of_all_profits_for_all_years\n",
    "print(f'mean of all profit proportions for all the years: {mean_of_all_profits_for_all_years}')\n",
    "\n",
    "data.query('profit < @mean_of_all_profits_for_all_years')['release_year']"
   ]
  },
  {
   "cell_type": "markdown",
   "metadata": {},
   "source": [
    "- **Lets see how above scatter graph looks on a bar plot**"
   ]
  },
  {
   "cell_type": "code",
   "execution_count": 25,
   "metadata": {
    "pycharm": {
     "name": "#%%\n"
    }
   },
   "outputs": [
    {
     "data": {
      "image/png": "[encoded data removed]",
      "text/plain": [
       "<Figure size 432x288 with 1 Axes>"
      ]
     },
     "metadata": {
      "needs_background": "light"
     },
     "output_type": "display_data"
    }
   ],
   "source": [
    "plt.bar(data['release_year'], data['profit'], width=0.6)\n",
    "plt.title(\"      Adjusted Mean Profit for each year for all profitable movies\")\n",
    "plt.xlabel(\"Year\")\n",
    "plt.ylabel(\"Adjusted Mean Profit\")\n",
    "plt.show()"
   ]
  },
  {
   "cell_type": "markdown",
   "metadata": {},
   "source": [
    "## From the above two graphs, I see answer to my first question:\n",
    " - Distribution in the bar graph is Positively Skewed.\n",
    " - Profiteering proportion has decreased over the years for the movies who have made any profit."
   ]
  },
  {
   "cell_type": "markdown",
   "metadata": {},
   "source": [
    "<a id='question2'></a>\n",
    "## Q2. Has the mean revenue increased over the years for all movies?\n",
    "  - **In this question, I am looking for trend of mean revenue generated over the years for all the movies whether they made profit or not (successful or not)**.\n",
    "  - **To find the answer to the question we have cleaned DF ready to use `dfq2`**."
   ]
  },
  {
   "cell_type": "code",
   "execution_count": 26,
   "metadata": {
    "pycharm": {
     "name": "#%%\n"
    }
   },
   "outputs": [
    {
     "data": {
      "text/plain": [
       "(4726, 14)"
      ]
     },
     "execution_count": 26,
     "metadata": {},
     "output_type": "execute_result"
    }
   ],
   "source": [
    "dfq2.shape"
   ]
  },
  {
   "cell_type": "code",
   "execution_count": 27,
   "metadata": {
    "pycharm": {
     "name": "#%%\n"
    }
   },
   "outputs": [
    {
     "data": {
      "text/plain": [
       "1018619.28"
      ]
     },
     "execution_count": 27,
     "metadata": {},
     "output_type": "execute_result"
    }
   ],
   "source": [
    "dfq2['profit'].max()"
   ]
  },
  {
   "cell_type": "code",
   "execution_count": 28,
   "metadata": {
    "pycharm": {
     "name": "#%%\n"
    }
   },
   "outputs": [
    {
     "data": {
      "text/plain": [
       "1378.0"
      ]
     },
     "execution_count": 28,
     "metadata": {},
     "output_type": "execute_result"
    }
   ],
   "source": [
    "# lets remove the outliers again as we removed earlier, we can use the method we created earlier.\n",
    "dfq2 = remove_profit_outliers(dfq2)\n",
    "dfq2.profit.max()"
   ]
  },
  {
   "cell_type": "code",
   "execution_count": 29,
   "metadata": {
    "pycharm": {
     "name": "#%%\n"
    }
   },
   "outputs": [
    {
     "data": {
      "text/plain": [
       "(4721, 14)"
      ]
     },
     "execution_count": 29,
     "metadata": {},
     "output_type": "execute_result"
    }
   ],
   "source": [
    "dfq2.shape "
   ]
  },
  {
   "cell_type": "markdown",
   "metadata": {},
   "source": [
    "- **to go through the logic of profit proportion here again**\n",
    "\n",
    "```\n",
    "    min() = 1 means movie made no profit, \n",
    "    min() > 0  and min() < 1 movie lost money \n",
    "    min() > 1 movie made profit\n",
    "```"
   ]
  },
  {
   "cell_type": "code",
   "execution_count": 30,
   "metadata": {
    "pycharm": {
     "name": "#%%\n"
    }
   },
   "outputs": [
    {
     "data": {
      "text/plain": [
       "0.0"
      ]
     },
     "execution_count": 30,
     "metadata": {},
     "output_type": "execute_result"
    }
   ],
   "source": [
    "dfq2.profit.min() "
   ]
  },
  {
   "cell_type": "code",
   "execution_count": 31,
   "metadata": {
    "pycharm": {
     "name": "#%%\n"
    }
   },
   "outputs": [
    {
     "data": {
      "text/plain": [
       "(56, 5)"
      ]
     },
     "execution_count": 31,
     "metadata": {},
     "output_type": "execute_result"
    }
   ],
   "source": [
    "# for each year, lets see what is the mean revenue, runtime, adjusted budget and revenue.\n",
    "data = dfq2.groupby('release_year')[['runtime', 'revenue', 'budget_adj', 'revenue_adj','release_year']].mean()\n",
    "\n",
    "data.sort_values(by='revenue_adj', ascending=False, inplace=True)\n",
    "data.rename(columns={'release_year': 'year_of_release'}, inplace=True)\n",
    "data.shape"
   ]
  },
  {
   "cell_type": "code",
   "execution_count": 32,
   "metadata": {
    "pycharm": {
     "name": "#%%\n"
    }
   },
   "outputs": [
    {
     "data": {
      "image/png": "[encoded data removed]",
      "text/plain": [
       "<Figure size 432x288 with 1 Axes>"
      ]
     },
     "metadata": {
      "needs_background": "light"
     },
     "output_type": "display_data"
    }
   ],
   "source": [
    "# scatter plot to see what is the adjusted mean budget for all movies looks like for each year\n",
    "plt.scatter(y=data['revenue_adj'], x=data['year_of_release'])\n",
    "plt.title(\"      Adjusted Mean Revenue for each year for all movies\")\n",
    "plt.xlabel(\"Year\")\n",
    "plt.ylabel(\"Adjusted Mean Revenue\")\n",
    "plt.show()"
   ]
  },
  {
   "cell_type": "markdown",
   "metadata": {},
   "source": [
    "## From the above graph, I see answer to my second question:\n",
    " - Distribution in the bar graph is Positively Skewed.\n",
    " - Profiteering proportion has decreased over the years for the movies who have made any profit."
   ]
  },
  {
   "cell_type": "markdown",
   "metadata": {},
   "source": [
    "<a id='question3'></a>\n",
    "\n",
    "## Q3 Has the mean budget increased over the years for all movies?\n",
    "\n",
    "- **We can use the same `data` dataframe descending from `q2`**"
   ]
  },
  {
   "cell_type": "code",
   "execution_count": 33,
   "metadata": {
    "pycharm": {
     "name": "#%%\n"
    }
   },
   "outputs": [
    {
     "data": {
      "image/png": "[encoded data removed]",
      "text/plain": [
       "<Figure size 432x288 with 1 Axes>"
      ]
     },
     "metadata": {
      "needs_background": "light"
     },
     "output_type": "display_data"
    }
   ],
   "source": [
    "# since we have the data dataframe ready with all the mean values to the columns like\n",
    "# revenue, runtime, adjusted budget and revenue for each year, we can use the same \n",
    "# dataframe to find an answer to this question.\n",
    "\n",
    "# lets plot a scatter graph the mean adjusted budget allocation to all the movies for each year.\n",
    "plt.scatter(y=data['budget_adj'], x=data['year_of_release'])\n",
    "plt.title(\"     Adjusted Mean Budget for each year for all movies\")\n",
    "plt.xlabel(\"Year\")\n",
    "plt.ylabel(\"Adjusted Mean Budget\")\n",
    "plt.show()"
   ]
  },
  {
   "cell_type": "code",
   "execution_count": 34,
   "metadata": {
    "pycharm": {
     "name": "#%%\n"
    }
   },
   "outputs": [
    {
     "data": {
      "image/png": "[encoded data removed]",
      "text/plain": [
       "<Figure size 432x288 with 1 Axes>"
      ]
     },
     "metadata": {
      "needs_background": "light"
     },
     "output_type": "display_data"
    }
   ],
   "source": [
    "# want to see what above looks like in bar graph\n",
    "\n",
    "# need to round off the mean of adjusted budget for each year as the bar graph.\n",
    "data['budget_adj'] = data['budget_adj'].round().astype(np.int)\n",
    "data['year_of_release'] = data['year_of_release'].round().astype(np.int)\n",
    "\n",
    "# lets plot a bar graph the mean adjusted budget allocation to all the movies for each year.\n",
    "plt.bar(data['year_of_release'], data['budget_adj'], width=0.6)\n",
    "plt.title(\"     Adjusted Mean Budget for each year for all movies\")\n",
    "plt.xlabel(\"Year\")\n",
    "plt.ylabel(\"Adjusted Mean Budget\")\n",
    "plt.show()"
   ]
  },
  {
   "cell_type": "markdown",
   "metadata": {},
   "source": [
    "## From the above graph, I see answer to my third question:\n",
    " - Distribution in the scatter graph is  Positive Correlation.\n",
    " - Mean Budget_adj allocation of the movies is increasing over the years.\n",
    " - Since 1990's all the bar heights are above median of budget_adj.\n"
   ]
  },
  {
   "cell_type": "markdown",
   "metadata": {},
   "source": [
    "<a id='question4'></a>\n",
    "\n",
    "## Q4. Has the runtime of the movies increased over the years?\n",
    "- **We can use the same `data` dataframe descending from `q2`**"
   ]
  },
  {
   "cell_type": "code",
   "execution_count": 35,
   "metadata": {
    "pycharm": {
     "name": "#%%\n"
    }
   },
   "outputs": [
    {
     "data": {
      "image/png": "[encoded data removed]",
      "text/plain": [
       "<Figure size 432x288 with 1 Axes>"
      ]
     },
     "metadata": {
      "needs_background": "light"
     },
     "output_type": "display_data"
    }
   ],
   "source": [
    "plt.scatter(y=data['runtime'], x=data['year_of_release'])\n",
    "plt.title(\"Adjusted Mean Runtime for each year for all movies\")\n",
    "plt.xlabel(\"Year\")\n",
    "plt.ylabel(\"Adjusted Mean Runtime Minutes\")\n",
    "plt.show()"
   ]
  },
  {
   "cell_type": "markdown",
   "metadata": {},
   "source": [
    "## From the above graph, I see answer to my fourth question:\n",
    " - Distribution in the bar graph is strong Negative Correlation.\n",
    " - Mean runtime of the movies has reduce of the years.\n"
   ]
  },
  {
   "cell_type": "markdown",
   "metadata": {},
   "source": [
    "<a id='question5'></a>\n",
    "## Q5. Most Successful directors based on profit that movie made?"
   ]
  },
  {
   "cell_type": "code",
   "execution_count": 36,
   "metadata": {
    "pycharm": {
     "name": "#%%\n"
    }
   },
   "outputs": [
    {
     "data": {
      "text/html": [
       "<div>\n",
       "<style scoped>\n",
       "    .dataframe tbody tr th:only-of-type {\n",
       "        vertical-align: middle;\n",
       "    }\n",
       "\n",
       "    .dataframe tbody tr th {\n",
       "        vertical-align: top;\n",
       "    }\n",
       "\n",
       "    .dataframe thead th {\n",
       "        text-align: right;\n",
       "    }\n",
       "</style>\n",
       "<table border=\"1\" class=\"dataframe\">\n",
       "  <thead>\n",
       "    <tr style=\"text-align: right;\">\n",
       "      <th></th>\n",
       "      <th>profit</th>\n",
       "    </tr>\n",
       "    <tr>\n",
       "      <th>director</th>\n",
       "      <th></th>\n",
       "    </tr>\n",
       "  </thead>\n",
       "  <tbody>\n",
       "    <tr>\n",
       "      <th>John G. Avildsen</th>\n",
       "      <td>169790.598333</td>\n",
       "    </tr>\n",
       "    <tr>\n",
       "      <th>Angel Gracia</th>\n",
       "      <td>26881.720000</td>\n",
       "    </tr>\n",
       "    <tr>\n",
       "      <th>Daniel Myrick|Eduardo SÃ¡nchez</th>\n",
       "      <td>9920.000000</td>\n",
       "    </tr>\n",
       "    <tr>\n",
       "      <th>Oren Peli</th>\n",
       "      <td>6445.195000</td>\n",
       "    </tr>\n",
       "    <tr>\n",
       "      <th>John Landis</th>\n",
       "      <td>4903.769167</td>\n",
       "    </tr>\n",
       "    <tr>\n",
       "      <th>Dermot Mulroney</th>\n",
       "      <td>1378.000000</td>\n",
       "    </tr>\n",
       "    <tr>\n",
       "      <th>Travis Cluff|Chris Lofing</th>\n",
       "      <td>426.640000</td>\n",
       "    </tr>\n",
       "    <tr>\n",
       "      <th>Chris Kentis</th>\n",
       "      <td>420.520000</td>\n",
       "    </tr>\n",
       "    <tr>\n",
       "      <th>Morgan Spurlock</th>\n",
       "      <td>219.810000</td>\n",
       "    </tr>\n",
       "    <tr>\n",
       "      <th>John Carney</th>\n",
       "      <td>129.440000</td>\n",
       "    </tr>\n",
       "    <tr>\n",
       "      <th>Niall Johnson</th>\n",
       "      <td>109.850000</td>\n",
       "    </tr>\n",
       "    <tr>\n",
       "      <th>Sean S. Cunningham</th>\n",
       "      <td>108.640000</td>\n",
       "    </tr>\n",
       "    <tr>\n",
       "      <th>Robert Clouse</th>\n",
       "      <td>105.880000</td>\n",
       "    </tr>\n",
       "    <tr>\n",
       "      <th>Jeff Pollack</th>\n",
       "      <td>100.000000</td>\n",
       "    </tr>\n",
       "    <tr>\n",
       "      <th>Jim Sharman</th>\n",
       "      <td>94.080000</td>\n",
       "    </tr>\n",
       "    <tr>\n",
       "      <th>John Pogue</th>\n",
       "      <td>89.170000</td>\n",
       "    </tr>\n",
       "    <tr>\n",
       "      <th>John Waters</th>\n",
       "      <td>83.580000</td>\n",
       "    </tr>\n",
       "    <tr>\n",
       "      <th>David Lynch</th>\n",
       "      <td>78.993333</td>\n",
       "    </tr>\n",
       "    <tr>\n",
       "      <th>Joel Zwick</th>\n",
       "      <td>73.750000</td>\n",
       "    </tr>\n",
       "    <tr>\n",
       "      <th>Levan Gabriadze</th>\n",
       "      <td>62.880000</td>\n",
       "    </tr>\n",
       "  </tbody>\n",
       "</table>\n",
       "</div>"
      ],
      "text/plain": [
       "                                       profit\n",
       "director                                     \n",
       "John G. Avildsen                169790.598333\n",
       "Angel Gracia                     26881.720000\n",
       "Daniel Myrick|Eduardo SÃ¡nchez    9920.000000\n",
       "Oren Peli                         6445.195000\n",
       "John Landis                       4903.769167\n",
       "Dermot Mulroney                   1378.000000\n",
       "Travis Cluff|Chris Lofing          426.640000\n",
       "Chris Kentis                       420.520000\n",
       "Morgan Spurlock                    219.810000\n",
       "John Carney                        129.440000\n",
       "Niall Johnson                      109.850000\n",
       "Sean S. Cunningham                 108.640000\n",
       "Robert Clouse                      105.880000\n",
       "Jeff Pollack                       100.000000\n",
       "Jim Sharman                         94.080000\n",
       "John Pogue                          89.170000\n",
       "John Waters                         83.580000\n",
       "David Lynch                         78.993333\n",
       "Joel Zwick                          73.750000\n",
       "Levan Gabriadze                     62.880000"
      ]
     },
     "execution_count": 36,
     "metadata": {},
     "output_type": "execute_result"
    }
   ],
   "source": [
    "# dfq5.sort_values(by='profit', inplace=True, ascending=False)\n",
    "dfq5 = dfq5.groupby('director')[['director', 'profit']].mean()\n",
    "dfq5.sort_values(by='profit', inplace=True, ascending=False)\n",
    "dfq5.head(20)"
   ]
  },
  {
   "cell_type": "code",
   "execution_count": 37,
   "metadata": {
    "pycharm": {
     "name": "#%%\n"
    }
   },
   "outputs": [],
   "source": [
    "# remove the top 10 outliers\n",
    "dfq5 = remove_profit_outliers(dfq5, 10)"
   ]
  },
  {
   "cell_type": "code",
   "execution_count": 38,
   "metadata": {
    "pycharm": {
     "name": "#%%\n"
    }
   },
   "outputs": [],
   "source": [
    "sub_dfq5 = dfq5.nlargest(5,['profit'])"
   ]
  },
  {
   "cell_type": "markdown",
   "metadata": {},
   "source": [
    "- **[Pie Chart inspired from matplotlib.org](https://matplotlib.org/3.1.1/gallery/pie_and_polar_charts/pie_features.html#sphx-glr-gallery-pie-and-polar-charts-pie-features-py)** <br>\n",
    "\n",
    "- **So we have dataframe with two columns `director` and `profit`, `profit` has the mean profit of all the movies by the director.**"
   ]
  },
  {
   "cell_type": "code",
   "execution_count": 39,
   "metadata": {
    "pycharm": {
     "name": "#%%\n"
    }
   },
   "outputs": [
    {
     "data": {
      "image/png": "[encoded data removed]",
      "text/plain": [
       "<Figure size 432x288 with 1 Axes>"
      ]
     },
     "metadata": {},
     "output_type": "display_data"
    }
   ],
   "source": [
    "list_of_top_directors = sub_dfq5.index.to_list()  # get list of the top director\n",
    "list_of_top_profits = sub_dfq5.profit.astype(np.int).to_list() # get list of the profits made\n",
    " \n",
    "explode = (0.4, 0.2, 0.2, 0.2, 0.2) # how far in the pie chart the slices will be from each other\n",
    "\n",
    "fig1, ax1 = plt.subplots()\n",
    "ax1.pie(list_of_top_profits, explode=explode, labels=list_of_top_directors, \n",
    "        autopct='%1.1f%%', shadow=True, startangle=90)\n",
    "ax1.axis('equal')  # Equal aspect ratio ensures that pie is drawn as a circle.\n",
    "\n",
    "plt.show()"
   ]
  },
  {
   "cell_type": "markdown",
   "metadata": {},
   "source": [
    "## From the above graph, I see answer to my fifth question:\n",
    " - `Niall Johnson` movies has made the most profit \n"
   ]
  },
  {
   "cell_type": "markdown",
   "metadata": {},
   "source": [
    "<a id='conclusions'></a>\n",
    "\n",
    "## Conclusions\n",
    "\n",
    " - **Conclusions for the questions can be found at the end of the question and its research/graphs.** <br>\n",
    " - **Interesting theory that correlates with my answers to `question 1, question 2 and question 3`.**  <br> \n",
    " - **From the answer to the `question 1` we saw that the profiteering proportion has decreased over the years.** <br> \n",
    " - **I wonder why, could it to be due to the overall expenses for making a movie has increased over the years?** <br>\n",
    " - **We find answer to our puzzle from answer to our `questions 2` and `question 3`** <br>\n",
    " - **Answer to question 2 tells us the profit proportion for all the movies have decreased and answer to `question 3` tells there is an increase in the `budget` from `1960's` to `2015`**.\n",
    "\n"
   ]
  },
  {
   "cell_type": "code",
   "execution_count": null,
   "metadata": {
    "pycharm": {
     "name": "#%%\n"
    }
   },
   "outputs": [],
   "source": []
  }
 ],
 "metadata": {
  "kernelspec": {
   "display_name": "Python 3",
   "language": "python",
   "name": "python3"
  },
  "language_info": {
   "codemirror_mode": {
    "name": "ipython",
    "version": 3
   },
   "file_extension": ".py",
   "mimetype": "text/x-python",
   "name": "python",
   "nbconvert_exporter": "python",
   "pygments_lexer": "ipython3",
   "version": "3.7.7"
  }
 },
 "nbformat": 4,
 "nbformat_minor": 1
}